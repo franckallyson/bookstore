{
  "nbformat": 4,
  "nbformat_minor": 0,
  "metadata": {
    "colab": {
      "provenance": [],
      "toc_visible": true
    },
    "kernelspec": {
      "name": "python3",
      "display_name": "Python 3"
    },
    "language_info": {
      "name": "python"
    }
  },
  "cells": [
    {
      "cell_type": "markdown",
      "source": [
        "<img src=\"https://raw.githubusercontent.com/andre-marcos-perez/ebac-course-utils/main/media/logo/newebac_logo_black_half.png\" alt=\"ebac-logo\">\n",
        "\n",
        "---\n",
        "\n",
        "# **Módulo** | Python: Arquivos e Funções\n",
        "Caderno de **Exercícios**<br> \n",
        "Professor [André Perez](https://www.linkedin.com/in/andremarcosperez/)\n",
        "\n",
        "**Aluno: Franck Allyson da Silva Rocha**\n",
        "\n",
        "---"
      ],
      "metadata": {
        "id": "75txyoXLR75W"
      }
    },
    {
      "cell_type": "markdown",
      "source": [
        "# Módulos\n"
      ],
      "metadata": {
        "id": "jHqVDBvLSEU8"
      }
    },
    {
      "cell_type": "markdown",
      "source": [
        "\n",
        "\n",
        "1.   Leitura;\n",
        "2.   Escrita;\n",
        "3.   Funções;\n",
        "4.   Escopo.\n",
        "\n",
        "---\n",
        "\n"
      ],
      "metadata": {
        "id": "_mTkyeKtSO16"
      }
    },
    {
      "cell_type": "markdown",
      "source": [
        "# Exercícios"
      ],
      "metadata": {
        "id": "8TyrVTzASo3d"
      }
    },
    {
      "cell_type": "markdown",
      "source": [
        "## 0. Preparação do Ambiente"
      ],
      "metadata": {
        "id": "DQVti6VeSspO"
      }
    },
    {
      "cell_type": "markdown",
      "source": [
        "Neste exercício vamos trabalhar com os arquivos de csv e texto definidos abaixo. Execute cada uma das células de código apra escrever os arquivos na sua máquina virtual.\n",
        "\n",
        "\n",
        "\n",
        "*   **carros.csv**: arquivo csv com informações sobre carros ( venda, manutenção, portas, etc.).\n",
        "\n"
      ],
      "metadata": {
        "id": "vng3CHO8TARJ"
      }
    },
    {
      "cell_type": "code",
      "source": [
        "%%writefile carros.csv\n",
        "id,valor_venda,valor_manutencao,portas,pessoas,porta_malas\n",
        "1,vhigh,med,2,2,small\n",
        "2,med,vhigh,2,2,small\n",
        "3,low,vhigh,2,2,small\n",
        "4,low,high,2,2,small\n",
        "5,low,high,2,2,small\n",
        "6,low,high,4,4,big\n",
        "7,low,high,4,4,big\n",
        "8,low,med,2,2,small\n",
        "9,low,med,2,2,small\n",
        "10,low,med,2,2,small\n",
        "11,low,med,4,4,big\n",
        "12,low,low,2,2,small\n",
        "13,low,low,4,4,small\n",
        "14,low,low,4,4,med\n"
      ],
      "metadata": {
        "colab": {
          "base_uri": "https://localhost:8080/"
        },
        "id": "Zp6FTUmBTksi",
        "outputId": "a67aa99c-541c-4d2c-9f1f-8016dc49ea78"
      },
      "execution_count": 2,
      "outputs": [
        {
          "output_type": "stream",
          "name": "stdout",
          "text": [
            "Writing carros.csv\n"
          ]
        }
      ]
    },
    {
      "cell_type": "markdown",
      "source": [
        "* **musica.txt**: arquivo texto com a letra da música Roda Viva do Chico Buarque."
      ],
      "metadata": {
        "id": "WTUfc8lxTwis"
      }
    },
    {
      "cell_type": "code",
      "source": [
        "%%writefile musica.txt\n",
        "Roda Viva\n",
        "Chico Buarque\n",
        "\n",
        "Tem dias que a gente se sente\n",
        "Como quem partiu ou morreu\n",
        "A gente estancou de repente\n",
        "Ou foi o mundo então que cresceu\n",
        "A gente quer ter voz ativa\n",
        "No nosso destino mandar\n",
        "Mas eis que chega a roda viva\n",
        "E carrega o destino pra lá\n",
        "\n",
        "Roda mundo, roda-gigante\n",
        "Roda moinho, roda pião\n",
        "\n",
        "O tempo rodou num instante\n",
        "Nas voltas do meu coração\n",
        "A gente vai contra a corrente\n",
        "Até não poder resistir\n",
        "Na volta do barco é que sente\n",
        "O quanto deixou de cumprir\n",
        "Faz tempo que a gente cultiva\n",
        "A mais linda roseira que há\n",
        "Mas eis que chega a roda viva\n",
        "E carrega a roseira pra lá\n",
        "\n",
        "Roda mundo, roda-gigante\n",
        "Roda moinho, roda pião\n"
      ],
      "metadata": {
        "colab": {
          "base_uri": "https://localhost:8080/"
        },
        "id": "BG57ArnHT2lK",
        "outputId": "20a407e2-934e-40e5-9931-dd50a3088cb7"
      },
      "execution_count": 3,
      "outputs": [
        {
          "output_type": "stream",
          "name": "stdout",
          "text": [
            "Writing musica.txt\n"
          ]
        }
      ]
    },
    {
      "cell_type": "markdown",
      "source": [
        "# 1. Funções para arquivo csv"
      ],
      "metadata": {
        "id": "Mi6c_gPlUBRm"
      }
    },
    {
      "cell_type": "markdown",
      "source": [
        "Complete a função abaixo para extrair uma coluna do arquivo csv em uma lista. Os elementos devem ter o tipo de dado correto.\n"
      ],
      "metadata": {
        "id": "Mf5fUpOaUEez"
      }
    },
    {
      "cell_type": "code",
      "source": [
        "def extrai_coluna_csv(nome_arquivo: str, indice_coluna: int, tipo_dado: str):\n",
        "  coluna = []\n",
        "  with open(file=nome_arquivo, mode='r', encoding='utf8') as f:\n",
        "    linha = f.readline() # Lê o cabeçalho\n",
        "    linha = f.readline() # Lê uma linha do arquivo\n",
        "    while linha:\n",
        "      linha_separada = linha.split(sep=',')\n",
        "      dado_coluna = linha_separada[indice_coluna]\n",
        "\n",
        "      if tipo_dado == 'str':\n",
        "        coluna.append(str(dado_coluna))\n",
        "      elif tipo_dado == 'int':\n",
        "        coluna.append(int(dado_coluna))\n",
        "      elif tipo_dado == 'bool':\n",
        "        coluna.append(bool(dado_coluna))\n",
        "      else:\n",
        "        coluna.append(float(dado_coluna))\n",
        "\n",
        "      linha = f.readline()\n",
        "  return coluna"
      ],
      "metadata": {
        "id": "h3Hrc4snUL6S"
      },
      "execution_count": 8,
      "outputs": []
    },
    {
      "cell_type": "markdown",
      "source": [
        "Você pode testar a função com os códigos abaixo."
      ],
      "metadata": {
        "id": "GHolJHI2jGNO"
      }
    },
    {
      "cell_type": "code",
      "source": [
        "# extrair a coluna valor_venda\n",
        "valor_venda = extrai_coluna_csv(nome_arquivo='./carros.csv', indice_coluna=1, tipo_dado='str')\n",
        "print(valor_venda) # deve retornar ['vhigh', 'med', 'low', ...]\n",
        "\n",
        "# extrair a coluna pessoas\n",
        "pessoas = extrai_coluna_csv(nome_arquivo='./carros.csv', indice_coluna=4, tipo_dado='int')\n",
        "print(pessoas) # deve retornar [2, 2, 2, ...]"
      ],
      "metadata": {
        "colab": {
          "base_uri": "https://localhost:8080/"
        },
        "id": "r4vMYj5IjI0W",
        "outputId": "654f19f3-c7d9-4086-fe5b-97c7236e01df"
      },
      "execution_count": 9,
      "outputs": [
        {
          "output_type": "stream",
          "name": "stdout",
          "text": [
            "['vhigh', 'med', 'low', 'low', 'low', 'low', 'low', 'low', 'low', 'low', 'low', 'low', 'low', 'low']\n",
            "[2, 2, 2, 2, 2, 4, 4, 2, 2, 2, 4, 2, 4, 4]\n"
          ]
        }
      ]
    },
    {
      "cell_type": "markdown",
      "source": [
        "# 2. Funções para arquivo txt"
      ],
      "metadata": {
        "id": "O4wko0PsjMEP"
      }
    },
    {
      "cell_type": "markdown",
      "source": [
        "Complete a função abaixo para extrair uma as palavras de uma linha do arquivo txt em uma lista.\n"
      ],
      "metadata": {
        "id": "uFYMYr5AjTNa"
      }
    },
    {
      "cell_type": "code",
      "source": [
        "def extrai_linha_txt(nome_arquivo: str, numero_linha: int):\n",
        "  palavras_linha = []\n",
        "  with open(file=nome_arquivo, mode='r', encoding='utf8') as f:\n",
        "    linha = f.readline() # Lê o cabeçalho\n",
        "    count = 1\n",
        "\n",
        "    while linha:\n",
        "      if count == numero_linha:\n",
        "        linha_separada = linha.split(sep=' ')\n",
        "        for palavra in linha_separada:\n",
        "          if '\\n' in palavra:\n",
        "            palavra = palavra[0:-1]\n",
        "            \n",
        "          palavras_linha.append(palavra)\n",
        "\n",
        "      linha = f.readline()\n",
        "      count += 1\n",
        "\n",
        "  return palavras_linha"
      ],
      "metadata": {
        "id": "yg2Id5ZNjVxa"
      },
      "execution_count": 46,
      "outputs": []
    },
    {
      "cell_type": "markdown",
      "source": [
        "Você pode testar a função com os códigos abaixo.\n"
      ],
      "metadata": {
        "id": "bhR5P1AEja3H"
      }
    },
    {
      "cell_type": "code",
      "source": [
        "linha10 = extrai_linha_txt(nome_arquivo='./musica.txt', numero_linha=10)\n",
        "print(linha10) # deve retornar ['Mas', 'eis', 'que', 'chega', 'a', 'roda', 'viva']\n"
      ],
      "metadata": {
        "colab": {
          "base_uri": "https://localhost:8080/"
        },
        "id": "A7lzYYGrjcHF",
        "outputId": "e90ce4d2-16f1-4d55-8340-3b7704f1a897"
      },
      "execution_count": 47,
      "outputs": [
        {
          "output_type": "stream",
          "name": "stdout",
          "text": [
            "['Mas', 'eis', 'que', 'chega', 'a', 'roda', 'viva']\n"
          ]
        }
      ]
    }
  ]
}
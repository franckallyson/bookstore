{
  "nbformat": 4,
  "nbformat_minor": 0,
  "metadata": {
    "colab": {
      "provenance": []
    },
    "kernelspec": {
      "name": "python3",
      "display_name": "Python 3"
    },
    "language_info": {
      "name": "python"
    }
  },
  "cells": [
    {
      "cell_type": "markdown",
      "source": [
        "<img src=\"https://raw.githubusercontent.com/andre-marcos-perez/ebac-course-utils/main/media/logo/newebac_logo_black_half.png\" alt=\"ebac-logo\">\n",
        "\n",
        "---\n",
        "\n",
        "# **Módulo** | Python: Programação Funcional\n",
        "Caderno de **Exercícios**<br> \n",
        "Professor [André Perez](https://www.linkedin.com/in/andremarcosperez/)\n",
        "\n",
        "**Aluno: Franck Allyson da Silva Rocha**\n",
        "\n",
        "---"
      ],
      "metadata": {
        "id": "x-o50g3Jr1BX"
      }
    },
    {
      "cell_type": "markdown",
      "source": [
        "# Tópicos"
      ],
      "metadata": {
        "id": "8bKIF2qIsAsz"
      }
    },
    {
      "cell_type": "markdown",
      "source": [
        "\n",
        "\n",
        "1.   Função Lambda;\n",
        "2.   Função map;\n",
        "3.   Função filter;\n",
        "4.   Função reduce.\n",
        "\n",
        "---\n",
        "\n"
      ],
      "metadata": {
        "id": "AILw3axhsJX0"
      }
    },
    {
      "cell_type": "markdown",
      "source": [
        "# Exercícios"
      ],
      "metadata": {
        "id": "n43KqahWsVOp"
      }
    },
    {
      "cell_type": "markdown",
      "source": [
        "## 0. Preparação do ambiente"
      ],
      "metadata": {
        "id": "kyOYQn3fsWRL"
      }
    },
    {
      "cell_type": "markdown",
      "source": [
        "Neste exercício vamos trabalhar com o arquivo csv com dados de crédito, definido abaixo. Execute cada uma das células de ódigo para escrever os arquivos na sua máquina virtual."
      ],
      "metadata": {
        "id": "v3aMMsd0sZSE"
      }
    },
    {
      "cell_type": "code",
      "source": [
        "%%writefile credito.csv\n",
        "id_vendedor,valor_emprestimos,quantidade_emprestimos,data\n",
        "104271,448.0,1,20161208\n",
        "21476,826.7,3,20161208\n",
        "87440,313.6,3,20161208\n",
        "15980,-8008.0,6,20161208\n",
        "215906,2212.0,5,20161208\n",
        "33696,2771.3,2,20161208\n",
        "33893,2240.0,3,20161208\n",
        "214946,-4151.0,18,20161208\n",
        "123974,2021.95,2,20161208\n",
        "225870,4039.0,2,20161208\n"
      ],
      "metadata": {
        "colab": {
          "base_uri": "https://localhost:8080/"
        },
        "id": "o1Inc5i_suaH",
        "outputId": "c141ee0e-d737-40a4-f4e1-cefe1c6a264a"
      },
      "execution_count": 71,
      "outputs": [
        {
          "output_type": "stream",
          "name": "stdout",
          "text": [
            "Overwriting credito.csv\n"
          ]
        }
      ]
    },
    {
      "cell_type": "markdown",
      "source": [
        "Vamos ler o conteúdo do arquivo em uma lista onde cada elemento é um dicionário representando as linhas do arquivo."
      ],
      "metadata": {
        "id": "4mhPvC5Ks5Dz"
      }
    },
    {
      "cell_type": "code",
      "source": [
        "emprestimos = []\n",
        "with open(file='./credito.csv', mode='r', encoding='utf8') as fp:\n",
        "  fp.readline() # cabeçalho\n",
        "  linha = fp.readline()\n",
        "  while linha:\n",
        "    linha_emprestimo = {}\n",
        "    linha_elementos = linha.strip().split(sep=',')\n",
        "    \n",
        "    linha_emprestimo['id_vendedor'] = linha_elementos[0]\n",
        "    linha_emprestimo['valor_emprestimos'] = linha_elementos[1]\n",
        "    linha_emprestimo['quantidade_emprestimos'] = linha_elementos[2]\n",
        "    linha_emprestimo['data'] = linha_elementos[3]\n",
        "\n",
        "    emprestimos.append(linha_emprestimo)\n",
        "    linha = fp.readline()"
      ],
      "metadata": {
        "id": "WPgnk4e1s9hY"
      },
      "execution_count": 72,
      "outputs": []
    },
    {
      "cell_type": "code",
      "source": [
        "for emprestimo in emprestimos:\n",
        "  print(emprestimo)\n"
      ],
      "metadata": {
        "colab": {
          "base_uri": "https://localhost:8080/"
        },
        "id": "ILpWe6nhtCwP",
        "outputId": "1a55acf4-9063-45fa-b3ab-303dc6297cf9"
      },
      "execution_count": 73,
      "outputs": [
        {
          "output_type": "stream",
          "name": "stdout",
          "text": [
            "{'id_vendedor': '104271', 'valor_emprestimos': '448.0', 'quantidade_emprestimos': '1', 'data': '20161208'}\n",
            "{'id_vendedor': '21476', 'valor_emprestimos': '826.7', 'quantidade_emprestimos': '3', 'data': '20161208'}\n",
            "{'id_vendedor': '87440', 'valor_emprestimos': '313.6', 'quantidade_emprestimos': '3', 'data': '20161208'}\n",
            "{'id_vendedor': '15980', 'valor_emprestimos': '-8008.0', 'quantidade_emprestimos': '6', 'data': '20161208'}\n",
            "{'id_vendedor': '215906', 'valor_emprestimos': '2212.0', 'quantidade_emprestimos': '5', 'data': '20161208'}\n",
            "{'id_vendedor': '33696', 'valor_emprestimos': '2771.3', 'quantidade_emprestimos': '2', 'data': '20161208'}\n",
            "{'id_vendedor': '33893', 'valor_emprestimos': '2240.0', 'quantidade_emprestimos': '3', 'data': '20161208'}\n",
            "{'id_vendedor': '214946', 'valor_emprestimos': '-4151.0', 'quantidade_emprestimos': '18', 'data': '20161208'}\n",
            "{'id_vendedor': '123974', 'valor_emprestimos': '2021.95', 'quantidade_emprestimos': '2', 'data': '20161208'}\n",
            "{'id_vendedor': '225870', 'valor_emprestimos': '4039.0', 'quantidade_emprestimos': '2', 'data': '20161208'}\n"
          ]
        }
      ]
    },
    {
      "cell_type": "markdown",
      "source": [
        "## 1. Função map"
      ],
      "metadata": {
        "id": "UD44QB6ptEtg"
      }
    },
    {
      "cell_type": "markdown",
      "source": [
        "Aplique a função map na lista de emprestimos para extrair os valores da chave `valor_emprestimos` na lista `valor_emprestimos_lista`. Faça também a conversão de str para float."
      ],
      "metadata": {
        "id": "znHyOokbtGNG"
      }
    },
    {
      "cell_type": "code",
      "source": [
        "valor_emprestimos_lista = list(map(lambda emprestimo : float(emprestimo['valor_emprestimos']), emprestimos))"
      ],
      "metadata": {
        "id": "TsBNLYVCtO8B"
      },
      "execution_count": 74,
      "outputs": []
    },
    {
      "cell_type": "code",
      "source": [
        "print(valor_emprestimos_lista) # [448.0, 826.7, ..., 4039.0]"
      ],
      "metadata": {
        "colab": {
          "base_uri": "https://localhost:8080/"
        },
        "id": "0G2-jF3EtTkV",
        "outputId": "b394dd52-2c4d-4a73-8b8e-4711c8792fe1"
      },
      "execution_count": 75,
      "outputs": [
        {
          "output_type": "stream",
          "name": "stdout",
          "text": [
            "[448.0, 826.7, 313.6, -8008.0, 2212.0, 2771.3, 2240.0, -4151.0, 2021.95, 4039.0]\n"
          ]
        }
      ]
    },
    {
      "cell_type": "markdown",
      "source": [
        "---"
      ],
      "metadata": {
        "id": "t6yMwdr-taJy"
      }
    },
    {
      "cell_type": "markdown",
      "source": [
        "## 2. Função filter"
      ],
      "metadata": {
        "id": "rsn8BPQLta8N"
      }
    },
    {
      "cell_type": "markdown",
      "source": [
        "Aplique a função filter na lista de `valor_emprestimos_lista` para filtrar apenas os valores maiores que zero (os valores negativas são erros na base de dados). Salve os valores na lista `valor_emprestimos_lista_filtrada`."
      ],
      "metadata": {
        "id": "hoiEJaYiter2"
      }
    },
    {
      "cell_type": "code",
      "source": [
        "valor_emprestimos_lista_filtrada = list(filter(lambda valor : valor > 0, valor_emprestimos_lista))"
      ],
      "metadata": {
        "id": "JUa_hg-Gtq8C"
      },
      "execution_count": 76,
      "outputs": []
    },
    {
      "cell_type": "code",
      "source": [
        "print(valor_emprestimos_lista_filtrada) # [448.0, 826.7, ..., 4039.0]"
      ],
      "metadata": {
        "colab": {
          "base_uri": "https://localhost:8080/"
        },
        "id": "jgFek8h_t2hV",
        "outputId": "95f6cfaf-4d20-4246-8aeb-06c7580647ee"
      },
      "execution_count": 77,
      "outputs": [
        {
          "output_type": "stream",
          "name": "stdout",
          "text": [
            "[448.0, 826.7, 313.6, 2212.0, 2771.3, 2240.0, 2021.95, 4039.0]\n"
          ]
        }
      ]
    },
    {
      "cell_type": "markdown",
      "source": [
        "---"
      ],
      "metadata": {
        "id": "khFgxgkit4mz"
      }
    },
    {
      "cell_type": "markdown",
      "source": [
        "## 3. Função reduce"
      ],
      "metadata": {
        "id": "_hMYp_i2t5hF"
      }
    },
    {
      "cell_type": "markdown",
      "source": [
        "Com a nossa lista de valores de emprestimo pronta, vamos extrair algumas métricas."
      ],
      "metadata": {
        "id": "WuUVIFQKt8Og"
      }
    },
    {
      "cell_type": "markdown",
      "source": [
        "### 3.1. Função reduce para extrair a **soma**"
      ],
      "metadata": {
        "id": "VlrWvZ4It_uq"
      }
    },
    {
      "cell_type": "markdown",
      "source": [
        "Aplique a função reduce para somar os elementos da lista `valor_emprestimos_lista_filtrada` na variavel `soma_valor_emprestimos`."
      ],
      "metadata": {
        "id": "ZBdpJMTouDir"
      }
    },
    {
      "cell_type": "code",
      "source": [
        "from functools import reduce\n",
        "soma_valor_emprestimos = reduce(lambda a, b : a + b, valor_emprestimos_lista_filtrada)"
      ],
      "metadata": {
        "id": "uLP6esA8uWVT"
      },
      "execution_count": 78,
      "outputs": []
    },
    {
      "cell_type": "code",
      "source": [
        "print(soma_valor_emprestimos) # 14872.550000000001\n"
      ],
      "metadata": {
        "colab": {
          "base_uri": "https://localhost:8080/"
        },
        "id": "GBSf3MaZuYPv",
        "outputId": "72202c4e-9f86-4180-80f4-799b17b59ff9"
      },
      "execution_count": 79,
      "outputs": [
        {
          "output_type": "stream",
          "name": "stdout",
          "text": [
            "14872.550000000001\n"
          ]
        }
      ]
    },
    {
      "cell_type": "markdown",
      "source": [
        "### 3.2. Função reduce para extrair a **media aritimética**"
      ],
      "metadata": {
        "id": "RUhW3I6KuhOQ"
      }
    },
    {
      "cell_type": "markdown",
      "source": [
        "Aplique a função reduce para extrair a média aritimética (mais informações aqui) dos elementos da lista `valor_emprestimos_lista_filtrada` na variavel `media_valor_emprestimos`."
      ],
      "metadata": {
        "id": "-5WcKGlOuwFx"
      }
    },
    {
      "cell_type": "code",
      "source": [
        "from functools import reduce\n",
        "\n",
        "media_valor_emprestimos = reduce(lambda a, b : a + b, map(lambda x : x / len(valor_emprestimos_lista_filtrada), valor_emprestimos_lista_filtrada))"
      ],
      "metadata": {
        "id": "aaEcIBN_u4gx"
      },
      "execution_count": 80,
      "outputs": []
    },
    {
      "cell_type": "code",
      "source": [
        "print(media_valor_emprestimos) # 1859.0687500000001"
      ],
      "metadata": {
        "colab": {
          "base_uri": "https://localhost:8080/"
        },
        "id": "iDseAaoOu6Lp",
        "outputId": "2cd4e837-0a4b-40fe-953c-e1863d11db0c"
      },
      "execution_count": 81,
      "outputs": [
        {
          "output_type": "stream",
          "name": "stdout",
          "text": [
            "1859.0687500000001\n"
          ]
        }
      ]
    },
    {
      "cell_type": "markdown",
      "source": [
        "### 3.3. (**Desafio**) Função reduce para extrair o **desvio padrão**"
      ],
      "metadata": {
        "id": "yOYoK0Wdu8Is"
      }
    },
    {
      "cell_type": "markdown",
      "source": [
        "Aplique a função reduce para extrair a média aritimética (mais informações aqui) dos elementos da lista `valor_emprestimos_lista_filtrada` na variavel `desvio_padrao_valor_emprestimos`."
      ],
      "metadata": {
        "id": "RLd3xEGAvDcL"
      }
    },
    {
      "cell_type": "code",
      "source": [
        "from functools import reduce\n",
        "\n",
        "# Eu poderia aproveitar as variáveis dos exercícios 3.1 e 3.2\n",
        "desvio_padrao_valor_emprestimos = ((reduce(lambda a, b : a + b, map(lambda x : (x - media_valor_emprestimos)**2, valor_emprestimos_lista_filtrada)))/(len(valor_emprestimos_lista_filtrada)-1))**(1/2)\n"
      ],
      "metadata": {
        "id": "b34Y-E94vUbr"
      },
      "execution_count": 82,
      "outputs": []
    },
    {
      "cell_type": "code",
      "source": [
        "print(desvio_padrao_valor_emprestimos) # 1271.997271149785\n"
      ],
      "metadata": {
        "colab": {
          "base_uri": "https://localhost:8080/"
        },
        "id": "y5XjAWaDvZlN",
        "outputId": "c6867da2-c6b3-45d2-ca66-333f630dbaa9"
      },
      "execution_count": 83,
      "outputs": [
        {
          "output_type": "stream",
          "name": "stdout",
          "text": [
            "1271.9972711497849\n"
          ]
        }
      ]
    }
  ]
}
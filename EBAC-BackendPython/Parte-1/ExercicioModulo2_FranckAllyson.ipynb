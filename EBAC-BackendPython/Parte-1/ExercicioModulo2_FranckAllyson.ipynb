{
  "nbformat": 4,
  "nbformat_minor": 0,
  "metadata": {
    "colab": {
      "provenance": [],
      "toc_visible": true
    },
    "kernelspec": {
      "name": "python3",
      "display_name": "Python 3"
    },
    "language_info": {
      "name": "python"
    }
  },
  "cells": [
    {
      "cell_type": "markdown",
      "source": [
        "# Exercício - Módulo 2 - Estruturas de Dados"
      ],
      "metadata": {
        "id": "LZfGANIN9s88"
      }
    },
    {
      "cell_type": "markdown",
      "source": [
        "# Listas\n"
      ],
      "metadata": {
        "id": "ZEzEYUnn9xPj"
      }
    },
    {
      "cell_type": "markdown",
      "source": [
        "Criei uma lista chamada filmes com o nome dos 10 primeiros filmes mais bem avaliados no site no IMDB. Imprima o resultado."
      ],
      "metadata": {
        "id": "inqNVAu498mL"
      }
    },
    {
      "cell_type": "code",
      "source": [
        "lista_filmes = ['Um Sonho de Liberdade', 'O Poderoso Chefão', 'Batman: O cavaleiro das Trevas', \n",
        "                      'O Poderoso Chefão II', '12 Homens e uma Sentença', 'A lista de Schindler', \n",
        "                      'O Senhor dos Anéis: O Retorno do Rei', 'Pulp Fiction: Tempo de Violência', \n",
        "                      'O Senhor dos Anéis: A Sociedade do Anel', 'Três Homens em Conflito']\n",
        "\n",
        "print(lista_filmes)"
      ],
      "metadata": {
        "colab": {
          "base_uri": "https://localhost:8080/"
        },
        "id": "r3zh_LUa-oLz",
        "outputId": "1ac5dd2f-0dc8-4ad9-8cf8-ca9f6405b17a"
      },
      "execution_count": 1,
      "outputs": [
        {
          "output_type": "stream",
          "name": "stdout",
          "text": [
            "['Um Sonho de Liberdade', 'O Poderoso Chefão', 'Batman: O cavaleiro das Trevas', 'O Poderoso Chefão II', '12 Homens e uma Sentença', 'A lista de Schindler', 'O Senhor dos Anéis: O Retorno do Rei', 'Pulp Fiction: Tempo de Violência', 'O Senhor dos Anéis: A Sociedade do Anel', 'Três Homens em Conflito']\n"
          ]
        }
      ]
    },
    {
      "cell_type": "markdown",
      "source": [
        "Simule a movimentação do ranking. Utilize os métodos insert e pop para trocar a posição do primeiro e do segundo filme da lista. Imprima o resultado."
      ],
      "metadata": {
        "id": "XKBBhETb_pA3"
      }
    },
    {
      "cell_type": "code",
      "source": [
        "lista_filmes.insert(0, lista_filmes.pop(1))\n",
        "\n",
        "print(lista_filmes)\n"
      ],
      "metadata": {
        "colab": {
          "base_uri": "https://localhost:8080/"
        },
        "id": "VIe3HJws_5ij",
        "outputId": "64459920-37cb-4a29-c4cf-fd35a151ae90"
      },
      "execution_count": 2,
      "outputs": [
        {
          "output_type": "stream",
          "name": "stdout",
          "text": [
            "['O Poderoso Chefão', 'Um Sonho de Liberdade', 'Batman: O cavaleiro das Trevas', 'O Poderoso Chefão II', '12 Homens e uma Sentença', 'A lista de Schindler', 'O Senhor dos Anéis: O Retorno do Rei', 'Pulp Fiction: Tempo de Violência', 'O Senhor dos Anéis: A Sociedade do Anel', 'Três Homens em Conflito']\n"
          ]
        }
      ]
    },
    {
      "cell_type": "markdown",
      "source": [
        "# Conjuntos"
      ],
      "metadata": {
        "id": "a3yxF06XBBvu"
      }
    },
    {
      "cell_type": "markdown",
      "source": [
        "Aconteceu um erro no seu ranking. Simule a duplicação dos três últimos filmes da lista. Imprima o resultado."
      ],
      "metadata": {
        "id": "nB5tZ83kBEmt"
      }
    },
    {
      "cell_type": "code",
      "source": [
        "lista_filmes.insert(5, lista_filmes[7])\n",
        "lista_filmes.insert(0, lista_filmes[9])\n",
        "lista_filmes.insert(3, lista_filmes[11])\n",
        "\n",
        "print(lista_filmes)"
      ],
      "metadata": {
        "colab": {
          "base_uri": "https://localhost:8080/"
        },
        "id": "5IoQsZkYBpUZ",
        "outputId": "fe8fa962-0a01-41ba-d445-86bd1413bfa0"
      },
      "execution_count": 3,
      "outputs": [
        {
          "output_type": "stream",
          "name": "stdout",
          "text": [
            "['O Senhor dos Anéis: A Sociedade do Anel', 'O Poderoso Chefão', 'Um Sonho de Liberdade', 'Três Homens em Conflito', 'Batman: O cavaleiro das Trevas', 'O Poderoso Chefão II', '12 Homens e uma Sentença', 'Pulp Fiction: Tempo de Violência', 'A lista de Schindler', 'O Senhor dos Anéis: O Retorno do Rei', 'Pulp Fiction: Tempo de Violência', 'O Senhor dos Anéis: A Sociedade do Anel', 'Três Homens em Conflito']\n"
          ]
        }
      ]
    },
    {
      "cell_type": "markdown",
      "source": [
        "Utiliza a conversão set e list para remover os valores duplicados. Imprima o resultado."
      ],
      "metadata": {
        "id": "qYsFuAm9CIjz"
      }
    },
    {
      "cell_type": "code",
      "source": [
        "lista_filmes = list(set(lista_filmes))\n",
        "\n",
        "print(lista_filmes)\n",
        "\n",
        "# Quando eu faço a conversão o ranking é alterado, portanto devo corrigir isso.\n",
        "lista_filmes.insert(1, lista_filmes.pop(4))\n",
        "lista_filmes.insert(2, lista_filmes.pop(7))\n",
        "lista_filmes.insert(3, lista_filmes.pop(5))\n",
        "lista_filmes.insert(4, lista_filmes.pop(8))\n",
        "lista_filmes.insert(5, lista_filmes.pop(9))\n",
        "lista_filmes.insert(6, lista_filmes.pop(7))\n",
        "lista_filmes.insert(7, lista_filmes.pop(9))\n",
        "\n",
        "print(lista_filmes)"
      ],
      "metadata": {
        "colab": {
          "base_uri": "https://localhost:8080/"
        },
        "id": "nX-t2NmeCNHd",
        "outputId": "fd760868-8ed5-4785-af39-b7d92175107a"
      },
      "execution_count": 4,
      "outputs": [
        {
          "output_type": "stream",
          "name": "stdout",
          "text": [
            "['Um Sonho de Liberdade', 'O Senhor dos Anéis: O Retorno do Rei', 'Batman: O cavaleiro das Trevas', 'Três Homens em Conflito', 'O Poderoso Chefão II', 'O Senhor dos Anéis: A Sociedade do Anel', 'O Poderoso Chefão', '12 Homens e uma Sentença', 'A lista de Schindler', 'Pulp Fiction: Tempo de Violência']\n",
            "['Um Sonho de Liberdade', 'O Poderoso Chefão II', '12 Homens e uma Sentença', 'Três Homens em Conflito', 'A lista de Schindler', 'Pulp Fiction: Tempo de Violência', 'Batman: O cavaleiro das Trevas', 'O Poderoso Chefão', 'O Senhor dos Anéis: O Retorno do Rei', 'O Senhor dos Anéis: A Sociedade do Anel']\n"
          ]
        }
      ]
    },
    {
      "cell_type": "markdown",
      "source": [
        "# Dicionários"
      ],
      "metadata": {
        "id": "G6hOc4ApIesA"
      }
    },
    {
      "cell_type": "markdown",
      "source": [
        "Repita os exercícios da parte 1 (listas). Os elementos da lista filmes devem ser dicionários no seguinte formato: \n",
        "\n",
        "{'nome': `<nome-do-filme>`, 'ano': `<ano-do-filme>`, 'sinopse': `<sinopse-do-filme>`}"
      ],
      "metadata": {
        "id": "lfBLY2z4IiZ2"
      }
    },
    {
      "cell_type": "code",
      "source": [
        "lista_filmes = [\n",
        "    dict(nome='Um Sonho de Liberdade',\n",
        "         ano=1994,\n",
        "         sinopse='Dois homens presos se reúnem ao longo de vários anos, encontrando consolo e eventual redenção através de atos de decência comum.'),\n",
        "    dict(nome='O Poderoso Chefão',\n",
        "         ano=1972,\n",
        "         sinopse='O patriarca idoso de uma dinastia do crime organizado transfere o controle de seu império clandestino para seu filho relutante.'),\n",
        "    dict(nome='Batman: O Cavaleiro das Trevas',\n",
        "         ano=2008,\n",
        "         sinopse='Quando a ameaça conhecida como O Coringa surge de seu passado, causa estragos e caos nas pessoas de Gotham. O Cavaleiro das Trevas deve aceitar um dos maiores testes para combater a injustiça.'),\n",
        "    dict(nome='O Poderoso Chefão II',\n",
        "         ano=1974,\n",
        "         sinopse='Em 1950, Michael Corleone, agora à frente da família, tenta expandir o negócio do crime a Las Vegas, Los Angeles e Cuba. Paralelamente, é revelada a história de Vito Corleone, e de como saiu da Sicília e chegou a Nova Iorque.'),\n",
        "    dict(nome='12 Homens e uma Sentença',\n",
        "         ano=1957,\n",
        "         sinopse='Um jurado que se aposenta tenta evitar um erro judicial forçando seus colegas a reconsiderarem as evidências.'),\n",
        "    dict(nome='A Lista de Schindler',\n",
        "         ano=1993,\n",
        "         sinopse='Depois de testemunhar a perseguição dos judaicos na Polônia ocupada pelos alemães durante a Segunda Guerra Mundial, o industrial Oskar Schindler se começa a preocupar com sua força de trabalho judaica.'),\n",
        "    dict(nome='O Senhor dos Anéis: O Retorno do Rei',\n",
        "         ano=2003,\n",
        "         sinopse='Gandalf e Aragorn lideram o Mundo dos Homens contra o exército de Sauron para desviar o olhar de Frodo e Sam quando eles se aproximam á Montanha da Perdição com o Um Anel.'),\n",
        "    dict(nome='Pulp Fiction: Tempo de Violência',\n",
        "         ano=1994,\n",
        "         sinopse='As vidas de dois assassinos da máfia, um boxeador, um gângster e sua esposa, e um par de bandidos se entrelaçam em quatro histórias de violência e redenção.'),\n",
        "    dict(nome='O Senhor dos Anéis: A Sociedade do Anel',\n",
        "         ano=2001,\n",
        "         sinopse='Um manso hobbit do Condado e oito companheiros partem em uma jornada para destruir o poderoso Um Anel e salvar a Terra-média das Trevas.'),\n",
        "    dict(nome='Três Homens em Conflito',\n",
        "         ano=1966,\n",
        "         sinopse='Um impostor se junta com dois homens para encontrar fortuna num remoto cemitério.')\n",
        "]\n",
        "\n",
        "print(lista_filmes)\n",
        "\n",
        "# Simulando mudança no ranking\n",
        "lista_filmes.insert(0, lista_filmes.pop(1))\n",
        "print(lista_filmes)"
      ],
      "metadata": {
        "colab": {
          "base_uri": "https://localhost:8080/"
        },
        "id": "5XLlQFsqJCRy",
        "outputId": "3d63078d-3694-425f-a5b7-ceb9072d803f"
      },
      "execution_count": 14,
      "outputs": [
        {
          "output_type": "stream",
          "name": "stdout",
          "text": [
            "[{'nome': 'Um Sonho de Liberdade', 'ano': 1994, 'sinopse': 'Dois homens presos se reúnem ao longo de vários anos, encontrando consolo e eventual redenção através de atos de decência comum.'}, {'nome': 'O Poderoso Chefão', 'ano': 1972, 'sinopse': 'O patriarca idoso de uma dinastia do crime organizado transfere o controle de seu império clandestino para seu filho relutante.'}, {'nome': 'Batman: O Cavaleiro das Trevas', 'ano': 2008, 'sinopse': 'Quando a ameaça conhecida como O Coringa surge de seu passado, causa estragos e caos nas pessoas de Gotham. O Cavaleiro das Trevas deve aceitar um dos maiores testes para combater a injustiça.'}, {'nome': 'O Poderoso Chefão II', 'ano': 1974, 'sinopse': 'Em 1950, Michael Corleone, agora à frente da família, tenta expandir o negócio do crime a Las Vegas, Los Angeles e Cuba. Paralelamente, é revelada a história de Vito Corleone, e de como saiu da Sicília e chegou a Nova Iorque.'}, {'nome': '12 Homens e uma Sentença', 'ano': 1957, 'sinopse': 'Um jurado que se aposenta tenta evitar um erro judicial forçando seus colegas a reconsiderarem as evidências.'}, {'nome': 'A Lista de Schindler', 'ano': 1993, 'sinopse': 'Depois de testemunhar a perseguição dos judaicos na Polônia ocupada pelos alemães durante a Segunda Guerra Mundial, o industrial Oskar Schindler se começa a preocupar com sua força de trabalho judaica.'}, {'nome': 'O Senhor dos Anéis: O Retorno do Rei', 'ano': 2003, 'sinopse': 'Gandalf e Aragorn lideram o Mundo dos Homens contra o exército de Sauron para desviar o olhar de Frodo e Sam quando eles se aproximam á Montanha da Perdição com o Um Anel.'}, {'nome': 'Pulp Fiction: Tempo de Violência', 'ano': 1994, 'sinopse': 'As vidas de dois assassinos da máfia, um boxeador, um gângster e sua esposa, e um par de bandidos se entrelaçam em quatro histórias de violência e redenção.'}, {'nome': 'O Senhor dos Anéis: A Sociedade do Anel', 'ano': 2001, 'sinopse': 'Um manso hobbit do Condado e oito companheiros partem em uma jornada para destruir o poderoso Um Anel e salvar a Terra-média das Trevas.'}, {'nome': 'Três Homens em Conflito', 'ano': 1966, 'sinopse': 'Um impostor se junta com dois homens para encontrar fortuna num remoto cemitério.'}]\n",
            "[{'nome': 'O Poderoso Chefão', 'ano': 1972, 'sinopse': 'O patriarca idoso de uma dinastia do crime organizado transfere o controle de seu império clandestino para seu filho relutante.'}, {'nome': 'Um Sonho de Liberdade', 'ano': 1994, 'sinopse': 'Dois homens presos se reúnem ao longo de vários anos, encontrando consolo e eventual redenção através de atos de decência comum.'}, {'nome': 'Batman: O Cavaleiro das Trevas', 'ano': 2008, 'sinopse': 'Quando a ameaça conhecida como O Coringa surge de seu passado, causa estragos e caos nas pessoas de Gotham. O Cavaleiro das Trevas deve aceitar um dos maiores testes para combater a injustiça.'}, {'nome': 'O Poderoso Chefão II', 'ano': 1974, 'sinopse': 'Em 1950, Michael Corleone, agora à frente da família, tenta expandir o negócio do crime a Las Vegas, Los Angeles e Cuba. Paralelamente, é revelada a história de Vito Corleone, e de como saiu da Sicília e chegou a Nova Iorque.'}, {'nome': '12 Homens e uma Sentença', 'ano': 1957, 'sinopse': 'Um jurado que se aposenta tenta evitar um erro judicial forçando seus colegas a reconsiderarem as evidências.'}, {'nome': 'A Lista de Schindler', 'ano': 1993, 'sinopse': 'Depois de testemunhar a perseguição dos judaicos na Polônia ocupada pelos alemães durante a Segunda Guerra Mundial, o industrial Oskar Schindler se começa a preocupar com sua força de trabalho judaica.'}, {'nome': 'O Senhor dos Anéis: O Retorno do Rei', 'ano': 2003, 'sinopse': 'Gandalf e Aragorn lideram o Mundo dos Homens contra o exército de Sauron para desviar o olhar de Frodo e Sam quando eles se aproximam á Montanha da Perdição com o Um Anel.'}, {'nome': 'Pulp Fiction: Tempo de Violência', 'ano': 1994, 'sinopse': 'As vidas de dois assassinos da máfia, um boxeador, um gângster e sua esposa, e um par de bandidos se entrelaçam em quatro histórias de violência e redenção.'}, {'nome': 'O Senhor dos Anéis: A Sociedade do Anel', 'ano': 2001, 'sinopse': 'Um manso hobbit do Condado e oito companheiros partem em uma jornada para destruir o poderoso Um Anel e salvar a Terra-média das Trevas.'}, {'nome': 'Três Homens em Conflito', 'ano': 1966, 'sinopse': 'Um impostor se junta com dois homens para encontrar fortuna num remoto cemitério.'}]\n"
          ]
        }
      ]
    }
  ]
}